{
 "cells": [
  {
   "cell_type": "markdown",
   "metadata": {},
   "source": [
    "Nome: Francisco Jerônimo da Silva Júnior <br>\n",
    "Matrícula: 433399 <br>\n",
    "Curso: Ciência da Computação <br>"
   ]
  },
  {
   "cell_type": "code",
   "execution_count": 30,
   "metadata": {},
   "outputs": [],
   "source": [
    "# importando os módulos\n",
    "import pandas as pd # manipulação dos dados tabulares\n",
    "import numpy as np # manipulação algébrica\n",
    "\n",
    "from sklearn.model_selection import train_test_split # dividir os dados em treino e teste\n",
    "from sklearn.neighbors import KNeighborsRegressor # criar o modelo KNN\n",
    "\n",
    "# bibliotecas para a visualização de dados\n",
    "import matplotlib\n",
    "import matplotlib.pyplot as plt\n",
    "import seaborn as sns \n",
    "matplotlib.style.use('fivethirtyeight')"
   ]
  },
  {
   "cell_type": "code",
   "execution_count": 31,
   "metadata": {},
   "outputs": [],
   "source": [
    "def euclidean_distances(X, X_row):\n",
    "    X_ = (X - X_row) ** 2\n",
    "    return np.sum(X_, axis=1) ** 0.5"
   ]
  },
  {
   "cell_type": "code",
   "execution_count": 32,
   "metadata": {},
   "outputs": [],
   "source": [
    "def get_neighbors(X_train,test_row, k):\n",
    "    distances = euclidean_distances(X_train, test_row)\n",
    "    idx_sort = np.argsort(distances)\n",
    "    return idx_sort[:k]"
   ]
  },
  {
   "cell_type": "markdown",
   "metadata": {},
   "source": [
    "### 1. Altere nossa implementação de kNN para que ela possa calcular regressão. Dica: crie uma função predict_regression baseada na função predict_classification do documento notebook 02-Aula kNN.ipynb."
   ]
  },
  {
   "cell_type": "code",
   "execution_count": 33,
   "metadata": {},
   "outputs": [],
   "source": [
    "def predict_regression(X, y, test_row, k):\n",
    "    idx_sort = get_neighbors(X, test_row, k)\n",
    "    output_values = y[idx_sort]\n",
    "    return round(np.mean(output_values), 1)"
   ]
  },
  {
   "cell_type": "markdown",
   "metadata": {},
   "source": [
    "### 2. Use os seguintes dados como dados de treino (X_treino) para o kNN, onde House Price Index é o nosso rótulo (label ou y_treino):\n",
    "\n",
    "![data](data.png)"
   ]
  },
  {
   "cell_type": "code",
   "execution_count": 34,
   "metadata": {},
   "outputs": [],
   "source": [
    "# criando o data frame\n",
    "df = pd.DataFrame({'Age' : [25, 35, 45, 20, 35, 52, 23, 40, 60, 48, 33],\n",
    "'Loan' : [40000.0, 60000.0, 80000.0, 20000.0, 120000.0, 18000.0, 95000.0, 62000.0, 100000.0, 220000.0, 150000.0],\n",
    "'House Price Index' : [135, 256, 231, 267, 139, 150, 127, 216,139, 250, 264]})"
   ]
  },
  {
   "cell_type": "code",
   "execution_count": 35,
   "metadata": {},
   "outputs": [
    {
     "data": {
      "text/html": [
       "<div>\n",
       "<style scoped>\n",
       "    .dataframe tbody tr th:only-of-type {\n",
       "        vertical-align: middle;\n",
       "    }\n",
       "\n",
       "    .dataframe tbody tr th {\n",
       "        vertical-align: top;\n",
       "    }\n",
       "\n",
       "    .dataframe thead th {\n",
       "        text-align: right;\n",
       "    }\n",
       "</style>\n",
       "<table border=\"1\" class=\"dataframe\">\n",
       "  <thead>\n",
       "    <tr style=\"text-align: right;\">\n",
       "      <th></th>\n",
       "      <th>Age</th>\n",
       "      <th>Loan</th>\n",
       "      <th>House Price Index</th>\n",
       "    </tr>\n",
       "  </thead>\n",
       "  <tbody>\n",
       "    <tr>\n",
       "      <th>0</th>\n",
       "      <td>25</td>\n",
       "      <td>40000.0</td>\n",
       "      <td>135</td>\n",
       "    </tr>\n",
       "    <tr>\n",
       "      <th>1</th>\n",
       "      <td>35</td>\n",
       "      <td>60000.0</td>\n",
       "      <td>256</td>\n",
       "    </tr>\n",
       "    <tr>\n",
       "      <th>2</th>\n",
       "      <td>45</td>\n",
       "      <td>80000.0</td>\n",
       "      <td>231</td>\n",
       "    </tr>\n",
       "    <tr>\n",
       "      <th>3</th>\n",
       "      <td>20</td>\n",
       "      <td>20000.0</td>\n",
       "      <td>267</td>\n",
       "    </tr>\n",
       "    <tr>\n",
       "      <th>4</th>\n",
       "      <td>35</td>\n",
       "      <td>120000.0</td>\n",
       "      <td>139</td>\n",
       "    </tr>\n",
       "    <tr>\n",
       "      <th>5</th>\n",
       "      <td>52</td>\n",
       "      <td>18000.0</td>\n",
       "      <td>150</td>\n",
       "    </tr>\n",
       "    <tr>\n",
       "      <th>6</th>\n",
       "      <td>23</td>\n",
       "      <td>95000.0</td>\n",
       "      <td>127</td>\n",
       "    </tr>\n",
       "    <tr>\n",
       "      <th>7</th>\n",
       "      <td>40</td>\n",
       "      <td>62000.0</td>\n",
       "      <td>216</td>\n",
       "    </tr>\n",
       "    <tr>\n",
       "      <th>8</th>\n",
       "      <td>60</td>\n",
       "      <td>100000.0</td>\n",
       "      <td>139</td>\n",
       "    </tr>\n",
       "    <tr>\n",
       "      <th>9</th>\n",
       "      <td>48</td>\n",
       "      <td>220000.0</td>\n",
       "      <td>250</td>\n",
       "    </tr>\n",
       "    <tr>\n",
       "      <th>10</th>\n",
       "      <td>33</td>\n",
       "      <td>150000.0</td>\n",
       "      <td>264</td>\n",
       "    </tr>\n",
       "  </tbody>\n",
       "</table>\n",
       "</div>"
      ],
      "text/plain": [
       "    Age      Loan  House Price Index\n",
       "0    25   40000.0                135\n",
       "1    35   60000.0                256\n",
       "2    45   80000.0                231\n",
       "3    20   20000.0                267\n",
       "4    35  120000.0                139\n",
       "5    52   18000.0                150\n",
       "6    23   95000.0                127\n",
       "7    40   62000.0                216\n",
       "8    60  100000.0                139\n",
       "9    48  220000.0                250\n",
       "10   33  150000.0                264"
      ]
     },
     "execution_count": 35,
     "metadata": {},
     "output_type": "execute_result"
    }
   ],
   "source": [
    "# visão geral do df\n",
    "df"
   ]
  },
  {
   "cell_type": "code",
   "execution_count": 36,
   "metadata": {},
   "outputs": [],
   "source": [
    "# separando as features\n",
    "X_treino = df[['Age', 'Loan']].values\n",
    "y_treino =  df['House Price Index'].values"
   ]
  },
  {
   "cell_type": "markdown",
   "metadata": {},
   "source": [
    "### Use a implementação de regressão para o kNN implementada na Questão 1 para:\n",
    "\n",
    "#### a) Calcular o rótulo para quando Age = 42 e Loan = $142,000."
   ]
  },
  {
   "cell_type": "code",
   "execution_count": 37,
   "metadata": {},
   "outputs": [
    {
     "data": {
      "text/plain": [
       "180.7"
      ]
     },
     "execution_count": 37,
     "metadata": {},
     "output_type": "execute_result"
    }
   ],
   "source": [
    "predict_regression(X_treino, y_treino, [42, 142000], 3)"
   ]
  },
  {
   "cell_type": "markdown",
   "metadata": {},
   "source": [
    "#### b) Calcular o rótulo para quando Age = 30 e Loan = $50,000.\n",
    "\n"
   ]
  },
  {
   "cell_type": "code",
   "execution_count": 38,
   "metadata": {},
   "outputs": [
    {
     "data": {
      "text/plain": [
       "202.3"
      ]
     },
     "execution_count": 38,
     "metadata": {},
     "output_type": "execute_result"
    }
   ],
   "source": [
    "predict_regression(X_treino, y_treino, [30, 50000], 3)"
   ]
  },
  {
   "cell_type": "markdown",
   "metadata": {},
   "source": [
    "### 3. O conjunto de dados de qualidade de vinho consiste na predição da qualidade de vinhos brancos sobre uma escala dada medições químicas de cada vinho. Baixe o conjunto de qualidade de vinho e faça o seguinte com ele em um Jupyter Notebook:"
   ]
  },
  {
   "cell_type": "code",
   "execution_count": 39,
   "metadata": {},
   "outputs": [],
   "source": [
    "# leitura dos dados\n",
    "df_wine = pd.read_csv('../Lista-04/winequality-white.csv', sep=';')"
   ]
  },
  {
   "cell_type": "code",
   "execution_count": 40,
   "metadata": {},
   "outputs": [
    {
     "data": {
      "text/html": [
       "<div>\n",
       "<style scoped>\n",
       "    .dataframe tbody tr th:only-of-type {\n",
       "        vertical-align: middle;\n",
       "    }\n",
       "\n",
       "    .dataframe tbody tr th {\n",
       "        vertical-align: top;\n",
       "    }\n",
       "\n",
       "    .dataframe thead th {\n",
       "        text-align: right;\n",
       "    }\n",
       "</style>\n",
       "<table border=\"1\" class=\"dataframe\">\n",
       "  <thead>\n",
       "    <tr style=\"text-align: right;\">\n",
       "      <th></th>\n",
       "      <th>fixed acidity</th>\n",
       "      <th>volatile acidity</th>\n",
       "      <th>citric acid</th>\n",
       "      <th>residual sugar</th>\n",
       "      <th>chlorides</th>\n",
       "      <th>free sulfur dioxide</th>\n",
       "      <th>total sulfur dioxide</th>\n",
       "      <th>density</th>\n",
       "      <th>pH</th>\n",
       "      <th>sulphates</th>\n",
       "      <th>alcohol</th>\n",
       "      <th>quality</th>\n",
       "    </tr>\n",
       "  </thead>\n",
       "  <tbody>\n",
       "    <tr>\n",
       "      <th>0</th>\n",
       "      <td>7.0</td>\n",
       "      <td>0.27</td>\n",
       "      <td>0.36</td>\n",
       "      <td>20.7</td>\n",
       "      <td>0.045</td>\n",
       "      <td>45.0</td>\n",
       "      <td>170.0</td>\n",
       "      <td>1.0010</td>\n",
       "      <td>3.00</td>\n",
       "      <td>0.45</td>\n",
       "      <td>8.8</td>\n",
       "      <td>6</td>\n",
       "    </tr>\n",
       "    <tr>\n",
       "      <th>1</th>\n",
       "      <td>6.3</td>\n",
       "      <td>0.30</td>\n",
       "      <td>0.34</td>\n",
       "      <td>1.6</td>\n",
       "      <td>0.049</td>\n",
       "      <td>14.0</td>\n",
       "      <td>132.0</td>\n",
       "      <td>0.9940</td>\n",
       "      <td>3.30</td>\n",
       "      <td>0.49</td>\n",
       "      <td>9.5</td>\n",
       "      <td>6</td>\n",
       "    </tr>\n",
       "    <tr>\n",
       "      <th>2</th>\n",
       "      <td>8.1</td>\n",
       "      <td>0.28</td>\n",
       "      <td>0.40</td>\n",
       "      <td>6.9</td>\n",
       "      <td>0.050</td>\n",
       "      <td>30.0</td>\n",
       "      <td>97.0</td>\n",
       "      <td>0.9951</td>\n",
       "      <td>3.26</td>\n",
       "      <td>0.44</td>\n",
       "      <td>10.1</td>\n",
       "      <td>6</td>\n",
       "    </tr>\n",
       "    <tr>\n",
       "      <th>3</th>\n",
       "      <td>7.2</td>\n",
       "      <td>0.23</td>\n",
       "      <td>0.32</td>\n",
       "      <td>8.5</td>\n",
       "      <td>0.058</td>\n",
       "      <td>47.0</td>\n",
       "      <td>186.0</td>\n",
       "      <td>0.9956</td>\n",
       "      <td>3.19</td>\n",
       "      <td>0.40</td>\n",
       "      <td>9.9</td>\n",
       "      <td>6</td>\n",
       "    </tr>\n",
       "    <tr>\n",
       "      <th>4</th>\n",
       "      <td>7.2</td>\n",
       "      <td>0.23</td>\n",
       "      <td>0.32</td>\n",
       "      <td>8.5</td>\n",
       "      <td>0.058</td>\n",
       "      <td>47.0</td>\n",
       "      <td>186.0</td>\n",
       "      <td>0.9956</td>\n",
       "      <td>3.19</td>\n",
       "      <td>0.40</td>\n",
       "      <td>9.9</td>\n",
       "      <td>6</td>\n",
       "    </tr>\n",
       "  </tbody>\n",
       "</table>\n",
       "</div>"
      ],
      "text/plain": [
       "   fixed acidity  volatile acidity  citric acid  residual sugar  chlorides  \\\n",
       "0            7.0              0.27         0.36            20.7      0.045   \n",
       "1            6.3              0.30         0.34             1.6      0.049   \n",
       "2            8.1              0.28         0.40             6.9      0.050   \n",
       "3            7.2              0.23         0.32             8.5      0.058   \n",
       "4            7.2              0.23         0.32             8.5      0.058   \n",
       "\n",
       "   free sulfur dioxide  total sulfur dioxide  density    pH  sulphates  \\\n",
       "0                 45.0                 170.0   1.0010  3.00       0.45   \n",
       "1                 14.0                 132.0   0.9940  3.30       0.49   \n",
       "2                 30.0                  97.0   0.9951  3.26       0.44   \n",
       "3                 47.0                 186.0   0.9956  3.19       0.40   \n",
       "4                 47.0                 186.0   0.9956  3.19       0.40   \n",
       "\n",
       "   alcohol  quality  \n",
       "0      8.8        6  \n",
       "1      9.5        6  \n",
       "2     10.1        6  \n",
       "3      9.9        6  \n",
       "4      9.9        6  "
      ]
     },
     "execution_count": 40,
     "metadata": {},
     "output_type": "execute_result"
    }
   ],
   "source": [
    "df_wine.head()"
   ]
  },
  {
   "cell_type": "markdown",
   "metadata": {},
   "source": [
    "### 3.1. Separe 70% dos dados para treino (conjunto de treino) e 30% dos dados para teste (conjunto de teste)."
   ]
  },
  {
   "cell_type": "code",
   "execution_count": 41,
   "metadata": {},
   "outputs": [],
   "source": [
    "# separando os valores das features e a varíável target\n",
    "X = df_wine.iloc[:, :11]\n",
    "y = df_wine.iloc[:, -1]"
   ]
  },
  {
   "cell_type": "code",
   "execution_count": 42,
   "metadata": {},
   "outputs": [],
   "source": [
    "# dividindo os dados em treino e teste\n",
    "X_train, X_test, y_train, y_test = train_test_split(X, y, test_size=0.3, random_state=42, stratify=y)"
   ]
  },
  {
   "cell_type": "markdown",
   "metadata": {},
   "source": [
    "### 3.2. Crie um modelo de regressão de qualidade de vinho usando o kNN para k=5."
   ]
  },
  {
   "cell_type": "code",
   "execution_count": 43,
   "metadata": {},
   "outputs": [],
   "source": [
    "knn_regressor = KNeighborsRegressor(n_neighbors=5)"
   ]
  },
  {
   "cell_type": "markdown",
   "metadata": {},
   "source": [
    "### 3.3. Use o modelo de regressão sobre X_test para calcular os valores preditos dos rótulos (y_pred)."
   ]
  },
  {
   "cell_type": "code",
   "execution_count": 44,
   "metadata": {},
   "outputs": [
    {
     "data": {
      "text/plain": [
       "KNeighborsRegressor(algorithm='auto', leaf_size=30, metric='minkowski',\n",
       "                    metric_params=None, n_jobs=None, n_neighbors=5, p=2,\n",
       "                    weights='uniform')"
      ]
     },
     "execution_count": 44,
     "metadata": {},
     "output_type": "execute_result"
    }
   ],
   "source": [
    "# treinando o modelo\n",
    "knn_regressor.fit(X_train, y_train)"
   ]
  },
  {
   "cell_type": "code",
   "execution_count": 45,
   "metadata": {},
   "outputs": [
    {
     "data": {
      "text/plain": [
       "array([6.4, 6.4, 6.4, ..., 5.6, 6.4, 6.2])"
      ]
     },
     "execution_count": 45,
     "metadata": {},
     "output_type": "execute_result"
    }
   ],
   "source": [
    "# valores preditos\n",
    "knn_regressor.predict(X_test)"
   ]
  },
  {
   "cell_type": "markdown",
   "metadata": {},
   "source": [
    "O método **score** retorna o coeficiente de determinação da previsão. A melhor pontuação possível é 1.0 e pode ser negativa (porque o modelo pode ser arbitrariamente pior)."
   ]
  },
  {
   "cell_type": "code",
   "execution_count": 46,
   "metadata": {},
   "outputs": [
    {
     "data": {
      "text/plain": [
       "0.14751756939021798"
      ]
     },
     "execution_count": 46,
     "metadata": {},
     "output_type": "execute_result"
    }
   ],
   "source": [
    "knn_regressor.score(X_test, y_test)"
   ]
  },
  {
   "cell_type": "markdown",
   "metadata": {},
   "source": [
    "### Escalonando os valores"
   ]
  },
  {
   "cell_type": "markdown",
   "metadata": {},
   "source": [
    "#### <i> Min-Max Scalling </i>\n",
    "$$ x = \\frac{x - min(x)}{max(x) - min(x)} $$"
   ]
  },
  {
   "cell_type": "code",
   "execution_count": 47,
   "metadata": {},
   "outputs": [],
   "source": [
    "# uso os valores min e max do conjunto de dados de treino para escalonar os valores das features de teste com \n",
    "# o intuito de evitar vasão de dados \n",
    "X_mtrain = (X_train - X_train.min())/(X_train.max() - X_train.min())\n",
    "X_mtest = (X_test - X_train.min())/(X_train.max() - X_train.min())"
   ]
  },
  {
   "cell_type": "code",
   "execution_count": 48,
   "metadata": {},
   "outputs": [
    {
     "data": {
      "text/html": [
       "<div>\n",
       "<style scoped>\n",
       "    .dataframe tbody tr th:only-of-type {\n",
       "        vertical-align: middle;\n",
       "    }\n",
       "\n",
       "    .dataframe tbody tr th {\n",
       "        vertical-align: top;\n",
       "    }\n",
       "\n",
       "    .dataframe thead th {\n",
       "        text-align: right;\n",
       "    }\n",
       "</style>\n",
       "<table border=\"1\" class=\"dataframe\">\n",
       "  <thead>\n",
       "    <tr style=\"text-align: right;\">\n",
       "      <th></th>\n",
       "      <th>fixed acidity</th>\n",
       "      <th>volatile acidity</th>\n",
       "      <th>citric acid</th>\n",
       "      <th>residual sugar</th>\n",
       "      <th>chlorides</th>\n",
       "      <th>free sulfur dioxide</th>\n",
       "      <th>total sulfur dioxide</th>\n",
       "      <th>density</th>\n",
       "      <th>pH</th>\n",
       "      <th>sulphates</th>\n",
       "      <th>alcohol</th>\n",
       "    </tr>\n",
       "  </thead>\n",
       "  <tbody>\n",
       "    <tr>\n",
       "      <th>627</th>\n",
       "      <td>0.307692</td>\n",
       "      <td>0.235294</td>\n",
       "      <td>0.144578</td>\n",
       "      <td>0.085890</td>\n",
       "      <td>0.115727</td>\n",
       "      <td>0.101045</td>\n",
       "      <td>0.508121</td>\n",
       "      <td>0.165606</td>\n",
       "      <td>0.427184</td>\n",
       "      <td>0.465116</td>\n",
       "      <td>0.225806</td>\n",
       "    </tr>\n",
       "    <tr>\n",
       "      <th>3493</th>\n",
       "      <td>0.211538</td>\n",
       "      <td>0.196078</td>\n",
       "      <td>0.162651</td>\n",
       "      <td>0.228528</td>\n",
       "      <td>0.080119</td>\n",
       "      <td>0.101045</td>\n",
       "      <td>0.290023</td>\n",
       "      <td>0.134374</td>\n",
       "      <td>0.388350</td>\n",
       "      <td>0.255814</td>\n",
       "      <td>0.806452</td>\n",
       "    </tr>\n",
       "    <tr>\n",
       "      <th>3831</th>\n",
       "      <td>0.288462</td>\n",
       "      <td>0.225490</td>\n",
       "      <td>0.114458</td>\n",
       "      <td>0.044479</td>\n",
       "      <td>0.228487</td>\n",
       "      <td>0.097561</td>\n",
       "      <td>0.280742</td>\n",
       "      <td>0.113553</td>\n",
       "      <td>0.038835</td>\n",
       "      <td>0.255814</td>\n",
       "      <td>0.258065</td>\n",
       "    </tr>\n",
       "    <tr>\n",
       "      <th>833</th>\n",
       "      <td>0.298077</td>\n",
       "      <td>0.166667</td>\n",
       "      <td>0.204819</td>\n",
       "      <td>0.010736</td>\n",
       "      <td>0.077151</td>\n",
       "      <td>0.087108</td>\n",
       "      <td>0.169374</td>\n",
       "      <td>0.064392</td>\n",
       "      <td>0.378641</td>\n",
       "      <td>0.255814</td>\n",
       "      <td>0.677419</td>\n",
       "    </tr>\n",
       "    <tr>\n",
       "      <th>963</th>\n",
       "      <td>0.221154</td>\n",
       "      <td>0.107843</td>\n",
       "      <td>0.150602</td>\n",
       "      <td>0.052147</td>\n",
       "      <td>0.041543</td>\n",
       "      <td>0.073171</td>\n",
       "      <td>0.238979</td>\n",
       "      <td>0.100058</td>\n",
       "      <td>0.563107</td>\n",
       "      <td>0.337209</td>\n",
       "      <td>0.580645</td>\n",
       "    </tr>\n",
       "  </tbody>\n",
       "</table>\n",
       "</div>"
      ],
      "text/plain": [
       "      fixed acidity  volatile acidity  citric acid  residual sugar  chlorides  \\\n",
       "627        0.307692          0.235294     0.144578        0.085890   0.115727   \n",
       "3493       0.211538          0.196078     0.162651        0.228528   0.080119   \n",
       "3831       0.288462          0.225490     0.114458        0.044479   0.228487   \n",
       "833        0.298077          0.166667     0.204819        0.010736   0.077151   \n",
       "963        0.221154          0.107843     0.150602        0.052147   0.041543   \n",
       "\n",
       "      free sulfur dioxide  total sulfur dioxide   density        pH  \\\n",
       "627              0.101045              0.508121  0.165606  0.427184   \n",
       "3493             0.101045              0.290023  0.134374  0.388350   \n",
       "3831             0.097561              0.280742  0.113553  0.038835   \n",
       "833              0.087108              0.169374  0.064392  0.378641   \n",
       "963              0.073171              0.238979  0.100058  0.563107   \n",
       "\n",
       "      sulphates   alcohol  \n",
       "627    0.465116  0.225806  \n",
       "3493   0.255814  0.806452  \n",
       "3831   0.255814  0.258065  \n",
       "833    0.255814  0.677419  \n",
       "963    0.337209  0.580645  "
      ]
     },
     "execution_count": 48,
     "metadata": {},
     "output_type": "execute_result"
    }
   ],
   "source": [
    "X_mtrain.head()"
   ]
  },
  {
   "cell_type": "code",
   "execution_count": 49,
   "metadata": {},
   "outputs": [],
   "source": [
    "# criando o modelo do KNeighborsRegressor\n",
    "knn_regressor = KNeighborsRegressor(n_neighbors=5)"
   ]
  },
  {
   "cell_type": "code",
   "execution_count": 50,
   "metadata": {},
   "outputs": [
    {
     "data": {
      "text/plain": [
       "KNeighborsRegressor(algorithm='auto', leaf_size=30, metric='minkowski',\n",
       "                    metric_params=None, n_jobs=None, n_neighbors=5, p=2,\n",
       "                    weights='uniform')"
      ]
     },
     "execution_count": 50,
     "metadata": {},
     "output_type": "execute_result"
    }
   ],
   "source": [
    "# treinando o modelo\n",
    "knn_regressor.fit(X_mtrain, y_train)"
   ]
  },
  {
   "cell_type": "code",
   "execution_count": 51,
   "metadata": {},
   "outputs": [
    {
     "data": {
      "text/plain": [
       "array([6.8, 5.6, 6.8, ..., 6.2, 5. , 6.4])"
      ]
     },
     "execution_count": 51,
     "metadata": {},
     "output_type": "execute_result"
    }
   ],
   "source": [
    "# realização da predição\n",
    "knn_regressor.predict(X_mtest)"
   ]
  },
  {
   "cell_type": "code",
   "execution_count": 52,
   "metadata": {
    "scrolled": true
   },
   "outputs": [
    {
     "data": {
      "text/plain": [
       "0.3295762050117129"
      ]
     },
     "execution_count": 52,
     "metadata": {},
     "output_type": "execute_result"
    }
   ],
   "source": [
    "knn_regressor.score(X_mtest, y_test)"
   ]
  },
  {
   "cell_type": "markdown",
   "metadata": {},
   "source": [
    "#### <i> Standardization (Variance Scalling) </i>\n",
    "\n",
    "$$ x = \\frac{x - mean(x)}{\\sigma(x)} $$"
   ]
  },
  {
   "cell_type": "code",
   "execution_count": 53,
   "metadata": {},
   "outputs": [],
   "source": [
    "# uso os valores da média e do desvio padrão referente ao conjunto de dados de treino para escalonar \n",
    "# os valores das features de teste com o intuito de evitar vasão de dados \n",
    "X_vtrain = (X_train - X_train.mean())/X_train.std()\n",
    "X_vtest = (X_test - X_train.mean())/X_train.std()"
   ]
  },
  {
   "cell_type": "code",
   "execution_count": 54,
   "metadata": {},
   "outputs": [
    {
     "data": {
      "text/html": [
       "<div>\n",
       "<style scoped>\n",
       "    .dataframe tbody tr th:only-of-type {\n",
       "        vertical-align: middle;\n",
       "    }\n",
       "\n",
       "    .dataframe tbody tr th {\n",
       "        vertical-align: top;\n",
       "    }\n",
       "\n",
       "    .dataframe thead th {\n",
       "        text-align: right;\n",
       "    }\n",
       "</style>\n",
       "<table border=\"1\" class=\"dataframe\">\n",
       "  <thead>\n",
       "    <tr style=\"text-align: right;\">\n",
       "      <th></th>\n",
       "      <th>fixed acidity</th>\n",
       "      <th>volatile acidity</th>\n",
       "      <th>citric acid</th>\n",
       "      <th>residual sugar</th>\n",
       "      <th>chlorides</th>\n",
       "      <th>free sulfur dioxide</th>\n",
       "      <th>total sulfur dioxide</th>\n",
       "      <th>density</th>\n",
       "      <th>pH</th>\n",
       "      <th>sulphates</th>\n",
       "      <th>alcohol</th>\n",
       "    </tr>\n",
       "  </thead>\n",
       "  <tbody>\n",
       "    <tr>\n",
       "      <th>627</th>\n",
       "      <td>0.175001</td>\n",
       "      <td>0.429599</td>\n",
       "      <td>-0.771171</td>\n",
       "      <td>-0.031881</td>\n",
       "      <td>0.099952</td>\n",
       "      <td>-0.259177</td>\n",
       "      <td>2.092351</td>\n",
       "      <td>0.554437</td>\n",
       "      <td>0.261096</td>\n",
       "      <td>1.148786</td>\n",
       "      <td>-0.905056</td>\n",
       "    </tr>\n",
       "    <tr>\n",
       "      <th>3493</th>\n",
       "      <td>-0.997943</td>\n",
       "      <td>0.030543</td>\n",
       "      <td>-0.523367</td>\n",
       "      <td>1.783883</td>\n",
       "      <td>-0.453059</td>\n",
       "      <td>-0.259177</td>\n",
       "      <td>-0.102937</td>\n",
       "      <td>0.015607</td>\n",
       "      <td>-0.002053</td>\n",
       "      <td>-0.429727</td>\n",
       "      <td>2.043022</td>\n",
       "    </tr>\n",
       "    <tr>\n",
       "      <th>3831</th>\n",
       "      <td>-0.059588</td>\n",
       "      <td>0.329835</td>\n",
       "      <td>-1.184178</td>\n",
       "      <td>-0.559038</td>\n",
       "      <td>1.851155</td>\n",
       "      <td>-0.316954</td>\n",
       "      <td>-0.196354</td>\n",
       "      <td>-0.343613</td>\n",
       "      <td>-2.370394</td>\n",
       "      <td>-0.429727</td>\n",
       "      <td>-0.741274</td>\n",
       "    </tr>\n",
       "    <tr>\n",
       "      <th>833</th>\n",
       "      <td>0.057706</td>\n",
       "      <td>-0.268749</td>\n",
       "      <td>0.054843</td>\n",
       "      <td>-0.988574</td>\n",
       "      <td>-0.499143</td>\n",
       "      <td>-0.490284</td>\n",
       "      <td>-1.317352</td>\n",
       "      <td>-1.191772</td>\n",
       "      <td>-0.067841</td>\n",
       "      <td>-0.429727</td>\n",
       "      <td>1.387894</td>\n",
       "    </tr>\n",
       "    <tr>\n",
       "      <th>963</th>\n",
       "      <td>-0.880649</td>\n",
       "      <td>-0.867333</td>\n",
       "      <td>-0.688570</td>\n",
       "      <td>-0.461416</td>\n",
       "      <td>-1.052155</td>\n",
       "      <td>-0.721390</td>\n",
       "      <td>-0.616728</td>\n",
       "      <td>-0.576441</td>\n",
       "      <td>1.182117</td>\n",
       "      <td>0.184139</td>\n",
       "      <td>0.896547</td>\n",
       "    </tr>\n",
       "  </tbody>\n",
       "</table>\n",
       "</div>"
      ],
      "text/plain": [
       "      fixed acidity  volatile acidity  citric acid  residual sugar  chlorides  \\\n",
       "627        0.175001          0.429599    -0.771171       -0.031881   0.099952   \n",
       "3493      -0.997943          0.030543    -0.523367        1.783883  -0.453059   \n",
       "3831      -0.059588          0.329835    -1.184178       -0.559038   1.851155   \n",
       "833        0.057706         -0.268749     0.054843       -0.988574  -0.499143   \n",
       "963       -0.880649         -0.867333    -0.688570       -0.461416  -1.052155   \n",
       "\n",
       "      free sulfur dioxide  total sulfur dioxide   density        pH  \\\n",
       "627             -0.259177              2.092351  0.554437  0.261096   \n",
       "3493            -0.259177             -0.102937  0.015607 -0.002053   \n",
       "3831            -0.316954             -0.196354 -0.343613 -2.370394   \n",
       "833             -0.490284             -1.317352 -1.191772 -0.067841   \n",
       "963             -0.721390             -0.616728 -0.576441  1.182117   \n",
       "\n",
       "      sulphates   alcohol  \n",
       "627    1.148786 -0.905056  \n",
       "3493  -0.429727  2.043022  \n",
       "3831  -0.429727 -0.741274  \n",
       "833   -0.429727  1.387894  \n",
       "963    0.184139  0.896547  "
      ]
     },
     "execution_count": 54,
     "metadata": {},
     "output_type": "execute_result"
    }
   ],
   "source": [
    "X_vtrain.head()"
   ]
  },
  {
   "cell_type": "code",
   "execution_count": 55,
   "metadata": {},
   "outputs": [],
   "source": [
    "# criando o modelo do KNeighborsRegressor\n",
    "knn_regressor = KNeighborsRegressor(n_neighbors=5)"
   ]
  },
  {
   "cell_type": "code",
   "execution_count": 56,
   "metadata": {},
   "outputs": [
    {
     "data": {
      "text/plain": [
       "KNeighborsRegressor(algorithm='auto', leaf_size=30, metric='minkowski',\n",
       "                    metric_params=None, n_jobs=None, n_neighbors=5, p=2,\n",
       "                    weights='uniform')"
      ]
     },
     "execution_count": 56,
     "metadata": {},
     "output_type": "execute_result"
    }
   ],
   "source": [
    "# treinando o modelo\n",
    "knn_regressor.fit(X_vtrain, y_train)"
   ]
  },
  {
   "cell_type": "code",
   "execution_count": 57,
   "metadata": {},
   "outputs": [
    {
     "data": {
      "text/plain": [
       "array([6.4, 5.6, 7. , ..., 6.2, 5. , 6.2])"
      ]
     },
     "execution_count": 57,
     "metadata": {},
     "output_type": "execute_result"
    }
   ],
   "source": [
    "# realização da predição\n",
    "knn_regressor.predict(X_vtest)"
   ]
  },
  {
   "cell_type": "code",
   "execution_count": 58,
   "metadata": {},
   "outputs": [
    {
     "data": {
      "text/plain": [
       "0.36307304607084556"
      ]
     },
     "execution_count": 58,
     "metadata": {},
     "output_type": "execute_result"
    }
   ],
   "source": [
    "knn_regressor.score(X_vtest, y_test)"
   ]
  },
  {
   "cell_type": "code",
   "execution_count": null,
   "metadata": {},
   "outputs": [],
   "source": [
    "sns.regplot()"
   ]
  },
  {
   "cell_type": "markdown",
   "metadata": {},
   "source": [
    "### Comparação dos diferentes métodos de escalonamento"
   ]
  },
  {
   "cell_type": "code",
   "execution_count": 59,
   "metadata": {},
   "outputs": [
    {
     "data": {
      "image/png": "[encoded data removed]",
      "text/plain": [
       "<Figure size 1440x360 with 3 Axes>"
      ]
     },
     "metadata": {},
     "output_type": "display_data"
    }
   ],
   "source": [
    "fig, (ax1, ax2, ax3) = plt.subplots(ncols=3, figsize=(20, 5))\n",
    "ax1.set_title('Antes do Scaling')\n",
    "\n",
    "sns.kdeplot(X_train['fixed acidity'], ax=ax1, color='red')\n",
    "sns.kdeplot(X_train['volatile acidity'], ax=ax1, color='blue')\n",
    "ax2.set_title('Depois do Min-Max Scaling')\n",
    "\n",
    "sns.kdeplot(X_mtrain['fixed acidity'], ax=ax2, color='red')\n",
    "sns.kdeplot(X_mtrain['volatile acidity'], ax=ax2, color='blue')\n",
    "ax3.set_title('Depois do Standard Scaling')\n",
    "  \n",
    "sns.kdeplot(X_vtrain['fixed acidity'], ax=ax3, color='red')\n",
    "sns.kdeplot(X_vtrain['volatile acidity'], ax=ax3, color='blue')\n",
    "\n",
    "plt.show();"
   ]
  }
 ],
 "metadata": {
  "kernelspec": {
   "display_name": "Python 3",
   "language": "python",
   "name": "python3"
  },
  "language_info": {
   "codemirror_mode": {
    "name": "ipython",
    "version": 3
   },
   "file_extension": ".py",
   "mimetype": "text/x-python",
   "name": "python",
   "nbconvert_exporter": "python",
   "pygments_lexer": "ipython3",
   "version": "3.7.6"
  }
 },
 "nbformat": 4,
 "nbformat_minor": 4
}
